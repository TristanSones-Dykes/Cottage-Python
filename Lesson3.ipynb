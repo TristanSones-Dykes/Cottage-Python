{
 "cells": [
  {
   "cell_type": "markdown",
   "id": "56775bb3-80bb-4943-a5d8-16193b028268",
   "metadata": {},
   "source": [
    "# Lesson 3 - Using Libraries\n",
    "\n",
    "Using libraries are vital to using Python, most applications of Python will require you to use libraries and they are probably the most powerful thing that Python offers\n",
    "\n",
    "All languages have \"standard libraries\", a group of libraries and functions that are included in the language but default. There are also libraries made by people that you will need to install separately.\n",
    "\n",
    "There are a variety of ways to access libraries:"
   ]
  },
  {
   "cell_type": "code",
   "execution_count": 1,
   "id": "62d9a239-c692-4b1a-a590-01b50abc7ee0",
   "metadata": {},
   "outputs": [
    {
     "data": {
      "text/plain": [
       "3.141592653589793"
      ]
     },
     "execution_count": 1,
     "metadata": {},
     "output_type": "execute_result"
    }
   ],
   "source": [
    "import math #imports the entire math library from the standard library\n",
    "\n",
    "import functools as func #imports tha functools library and renames it to \"func\"\n",
    "#this means that to access it we now just type func.XXXX\n",
    "\n",
    "from math import pi #imports the constant pi from the math library and loads it onto the kernel\n",
    "pi"
   ]
  },
  {
   "cell_type": "code",
   "execution_count": 5,
   "id": "fe0341dc-dfca-4e2c-b2d3-408bd18d04b6",
   "metadata": {},
   "outputs": [
    {
     "data": {
      "text/plain": [
       "2.718281828459045"
      ]
     },
     "execution_count": 5,
     "metadata": {},
     "output_type": "execute_result"
    }
   ],
   "source": [
    "#you can also get functions using this syntax\n",
    "from math import exp\n",
    "exp(1) #raises e to the power of 1"
   ]
  },
  {
   "cell_type": "markdown",
   "id": "85be6ab6-80fd-4f76-8c7c-6d5d88f1698c",
   "metadata": {},
   "source": [
    "### The standard data library stack\n",
    "\n",
    "You are going to use:\n",
    "1. Pandas – for handling and creating dataframes\n",
    "1. Matplotlib – for plotting data\n",
    "1. Numpy – for tertiary number handling and array generation\n",
    "1. Statsmodels – for creating models like linear regressions and time series models\n",
    "\n",
    "I've added a chess games dataset from Kaggle to explore.\n",
    "\n",
    "I'm going to import Pandas and use it to read the csv data into a dataframe."
   ]
  },
  {
   "cell_type": "code",
   "execution_count": 5,
   "id": "2899cc4e-fd53-45dd-bf34-6478dd832fac",
   "metadata": {},
   "outputs": [],
   "source": [
    "import pandas as pd #renaming pandas to pd for quicker coding\n",
    "\n",
    "df = pd.read_csv(\"games.csv\") \n",
    "#calling the read_csv function and giving it the name of the data file"
   ]
  },
  {
   "cell_type": "code",
   "execution_count": 8,
   "id": "a0a8d385-0d3f-4fd7-a327-139593b277bb",
   "metadata": {},
   "outputs": [
    {
     "data": {
      "text/html": [
       "<div>\n",
       "<style scoped>\n",
       "    .dataframe tbody tr th:only-of-type {\n",
       "        vertical-align: middle;\n",
       "    }\n",
       "\n",
       "    .dataframe tbody tr th {\n",
       "        vertical-align: top;\n",
       "    }\n",
       "\n",
       "    .dataframe thead th {\n",
       "        text-align: right;\n",
       "    }\n",
       "</style>\n",
       "<table border=\"1\" class=\"dataframe\">\n",
       "  <thead>\n",
       "    <tr style=\"text-align: right;\">\n",
       "      <th></th>\n",
       "      <th>id</th>\n",
       "      <th>rated</th>\n",
       "      <th>created_at</th>\n",
       "      <th>last_move_at</th>\n",
       "      <th>turns</th>\n",
       "      <th>victory_status</th>\n",
       "      <th>winner</th>\n",
       "      <th>increment_code</th>\n",
       "      <th>white_id</th>\n",
       "      <th>white_rating</th>\n",
       "      <th>black_id</th>\n",
       "      <th>black_rating</th>\n",
       "      <th>moves</th>\n",
       "      <th>opening_eco</th>\n",
       "      <th>opening_name</th>\n",
       "      <th>opening_ply</th>\n",
       "    </tr>\n",
       "  </thead>\n",
       "  <tbody>\n",
       "    <tr>\n",
       "      <th>0</th>\n",
       "      <td>TZJHLljE</td>\n",
       "      <td>False</td>\n",
       "      <td>1.504210e+12</td>\n",
       "      <td>1.504210e+12</td>\n",
       "      <td>13</td>\n",
       "      <td>outoftime</td>\n",
       "      <td>white</td>\n",
       "      <td>15+2</td>\n",
       "      <td>bourgris</td>\n",
       "      <td>1500</td>\n",
       "      <td>a-00</td>\n",
       "      <td>1191</td>\n",
       "      <td>d4 d5 c4 c6 cxd5 e6 dxe6 fxe6 Nf3 Bb4+ Nc3 Ba5...</td>\n",
       "      <td>D10</td>\n",
       "      <td>Slav Defense: Exchange Variation</td>\n",
       "      <td>5</td>\n",
       "    </tr>\n",
       "    <tr>\n",
       "      <th>1</th>\n",
       "      <td>l1NXvwaE</td>\n",
       "      <td>True</td>\n",
       "      <td>1.504130e+12</td>\n",
       "      <td>1.504130e+12</td>\n",
       "      <td>16</td>\n",
       "      <td>resign</td>\n",
       "      <td>black</td>\n",
       "      <td>5+10</td>\n",
       "      <td>a-00</td>\n",
       "      <td>1322</td>\n",
       "      <td>skinnerua</td>\n",
       "      <td>1261</td>\n",
       "      <td>d4 Nc6 e4 e5 f4 f6 dxe5 fxe5 fxe5 Nxe5 Qd4 Nc6...</td>\n",
       "      <td>B00</td>\n",
       "      <td>Nimzowitsch Defense: Kennedy Variation</td>\n",
       "      <td>4</td>\n",
       "    </tr>\n",
       "    <tr>\n",
       "      <th>2</th>\n",
       "      <td>mIICvQHh</td>\n",
       "      <td>True</td>\n",
       "      <td>1.504130e+12</td>\n",
       "      <td>1.504130e+12</td>\n",
       "      <td>61</td>\n",
       "      <td>mate</td>\n",
       "      <td>white</td>\n",
       "      <td>5+10</td>\n",
       "      <td>ischia</td>\n",
       "      <td>1496</td>\n",
       "      <td>a-00</td>\n",
       "      <td>1500</td>\n",
       "      <td>e4 e5 d3 d6 Be3 c6 Be2 b5 Nd2 a5 a4 c5 axb5 Nc...</td>\n",
       "      <td>C20</td>\n",
       "      <td>King's Pawn Game: Leonardis Variation</td>\n",
       "      <td>3</td>\n",
       "    </tr>\n",
       "  </tbody>\n",
       "</table>\n",
       "</div>"
      ],
      "text/plain": [
       "         id  rated    created_at  last_move_at  turns victory_status winner  \\\n",
       "0  TZJHLljE  False  1.504210e+12  1.504210e+12     13      outoftime  white   \n",
       "1  l1NXvwaE   True  1.504130e+12  1.504130e+12     16         resign  black   \n",
       "2  mIICvQHh   True  1.504130e+12  1.504130e+12     61           mate  white   \n",
       "\n",
       "  increment_code  white_id  white_rating   black_id  black_rating  \\\n",
       "0           15+2  bourgris          1500       a-00          1191   \n",
       "1           5+10      a-00          1322  skinnerua          1261   \n",
       "2           5+10    ischia          1496       a-00          1500   \n",
       "\n",
       "                                               moves opening_eco  \\\n",
       "0  d4 d5 c4 c6 cxd5 e6 dxe6 fxe6 Nf3 Bb4+ Nc3 Ba5...         D10   \n",
       "1  d4 Nc6 e4 e5 f4 f6 dxe5 fxe5 fxe5 Nxe5 Qd4 Nc6...         B00   \n",
       "2  e4 e5 d3 d6 Be3 c6 Be2 b5 Nd2 a5 a4 c5 axb5 Nc...         C20   \n",
       "\n",
       "                             opening_name  opening_ply  \n",
       "0        Slav Defense: Exchange Variation            5  \n",
       "1  Nimzowitsch Defense: Kennedy Variation            4  \n",
       "2   King's Pawn Game: Leonardis Variation            3  "
      ]
     },
     "execution_count": 8,
     "metadata": {},
     "output_type": "execute_result"
    }
   ],
   "source": [
    "df.head(3)\n",
    "#this shows us the first three rows of the dataframe so we can get a better look at the data"
   ]
  },
  {
   "cell_type": "markdown",
   "id": "6d895b78-a4b1-4947-9fae-59e188eca435",
   "metadata": {
    "tags": []
   },
   "source": [
    "#### Pandas\n",
    "This is where you're going to have to start using the docs and internet to figure a few things out for yourself. I am going to give you a few examples and you can ask me questions etc but there's no way I can include everything here so I am just going to include some notable examples.\n",
    "\n",
    "You can index pandas dataframes using the [] notation just like arrays, but the data input is the string name of the column. For example if you wanted to create a dataframe of only the victory conditions you could use:"
   ]
  },
  {
   "cell_type": "code",
   "execution_count": 25,
   "id": "893b5fc4-c7a3-4398-820b-071bd40f25e4",
   "metadata": {},
   "outputs": [
    {
     "data": {
      "text/plain": [
       "0        outoftime\n",
       "1           resign\n",
       "2             mate\n",
       "3             mate\n",
       "4             mate\n",
       "           ...    \n",
       "20053       resign\n",
       "20054         mate\n",
       "20055         mate\n",
       "20056       resign\n",
       "20057         mate\n",
       "Name: victory_status, Length: 20058, dtype: object"
      ]
     },
     "execution_count": 25,
     "metadata": {},
     "output_type": "execute_result"
    }
   ],
   "source": [
    "df[\"victory_status\"]"
   ]
  },
  {
   "cell_type": "markdown",
   "id": "c00d8f54-0ca1-4b59-a50f-9423fe7ff06b",
   "metadata": {},
   "source": [
    "And if you wanted to create a dataframe that shows when the victory status is a checkmate or not you can just attach a conditional operator."
   ]
  },
  {
   "cell_type": "code",
   "execution_count": 26,
   "id": "eabaf686-019e-46e4-8476-96630cda23b9",
   "metadata": {},
   "outputs": [
    {
     "data": {
      "text/plain": [
       "0        False\n",
       "1        False\n",
       "2         True\n",
       "3         True\n",
       "4         True\n",
       "         ...  \n",
       "20053    False\n",
       "20054     True\n",
       "20055     True\n",
       "20056    False\n",
       "20057     True\n",
       "Name: victory_status, Length: 20058, dtype: bool"
      ]
     },
     "execution_count": 26,
     "metadata": {},
     "output_type": "execute_result"
    }
   ],
   "source": [
    "df[\"victory_status\"] == \"mate\""
   ]
  },
  {
   "cell_type": "markdown",
   "id": "a46cc427-c62d-4ff7-8502-096b99058771",
   "metadata": {},
   "source": [
    "Say you wanted to select all the rows where the victory condition was to resign for a certain analysis, to do this you would use the pandas conditional index syntax. This basically combines the True/False dataframe from before to only select those certain indices in the new dataframe.\n",
    "\n",
    "df[(conditional statement)]\n",
    "\n",
    "Remember, the conditional statement could be as simple as checking if the data is a certain value but you could also use the more than or less than operators and you could also string together multiple conditional statements."
   ]
  },
  {
   "cell_type": "code",
   "execution_count": 30,
   "id": "3b72e912-af9b-4165-b8f5-4333ef9f0b95",
   "metadata": {},
   "outputs": [
    {
     "data": {
      "text/html": [
       "<div>\n",
       "<style scoped>\n",
       "    .dataframe tbody tr th:only-of-type {\n",
       "        vertical-align: middle;\n",
       "    }\n",
       "\n",
       "    .dataframe tbody tr th {\n",
       "        vertical-align: top;\n",
       "    }\n",
       "\n",
       "    .dataframe thead th {\n",
       "        text-align: right;\n",
       "    }\n",
       "</style>\n",
       "<table border=\"1\" class=\"dataframe\">\n",
       "  <thead>\n",
       "    <tr style=\"text-align: right;\">\n",
       "      <th></th>\n",
       "      <th>id</th>\n",
       "      <th>rated</th>\n",
       "      <th>created_at</th>\n",
       "      <th>last_move_at</th>\n",
       "      <th>turns</th>\n",
       "      <th>victory_status</th>\n",
       "      <th>winner</th>\n",
       "      <th>increment_code</th>\n",
       "      <th>white_id</th>\n",
       "      <th>white_rating</th>\n",
       "      <th>black_id</th>\n",
       "      <th>black_rating</th>\n",
       "      <th>moves</th>\n",
       "      <th>opening_eco</th>\n",
       "      <th>opening_name</th>\n",
       "      <th>opening_ply</th>\n",
       "    </tr>\n",
       "  </thead>\n",
       "  <tbody>\n",
       "    <tr>\n",
       "      <th>1</th>\n",
       "      <td>l1NXvwaE</td>\n",
       "      <td>True</td>\n",
       "      <td>1.504130e+12</td>\n",
       "      <td>1.504130e+12</td>\n",
       "      <td>16</td>\n",
       "      <td>resign</td>\n",
       "      <td>black</td>\n",
       "      <td>5+10</td>\n",
       "      <td>a-00</td>\n",
       "      <td>1322</td>\n",
       "      <td>skinnerua</td>\n",
       "      <td>1261</td>\n",
       "      <td>d4 Nc6 e4 e5 f4 f6 dxe5 fxe5 fxe5 Nxe5 Qd4 Nc6...</td>\n",
       "      <td>B00</td>\n",
       "      <td>Nimzowitsch Defense: Kennedy Variation</td>\n",
       "      <td>4</td>\n",
       "    </tr>\n",
       "    <tr>\n",
       "      <th>6</th>\n",
       "      <td>qwU9rasv</td>\n",
       "      <td>True</td>\n",
       "      <td>1.504230e+12</td>\n",
       "      <td>1.504230e+12</td>\n",
       "      <td>33</td>\n",
       "      <td>resign</td>\n",
       "      <td>white</td>\n",
       "      <td>10+0</td>\n",
       "      <td>capa_jr</td>\n",
       "      <td>1520</td>\n",
       "      <td>daniel_likes_chess</td>\n",
       "      <td>1423</td>\n",
       "      <td>d4 d5 e4 dxe4 Nc3 Nf6 f3 exf3 Nxf3 Nc6 Bb5 a6 ...</td>\n",
       "      <td>D00</td>\n",
       "      <td>Blackmar-Diemer Gambit: Pietrowsky Defense</td>\n",
       "      <td>10</td>\n",
       "    </tr>\n",
       "    <tr>\n",
       "      <th>7</th>\n",
       "      <td>RVN0N3VK</td>\n",
       "      <td>False</td>\n",
       "      <td>1.503680e+12</td>\n",
       "      <td>1.503680e+12</td>\n",
       "      <td>9</td>\n",
       "      <td>resign</td>\n",
       "      <td>black</td>\n",
       "      <td>15+30</td>\n",
       "      <td>daniel_likes_chess</td>\n",
       "      <td>1413</td>\n",
       "      <td>soultego</td>\n",
       "      <td>2108</td>\n",
       "      <td>e4 Nc6 d4 e5 d5 Nce7 c3 Ng6 b4</td>\n",
       "      <td>B00</td>\n",
       "      <td>Nimzowitsch Defense: Kennedy Variation |  Link...</td>\n",
       "      <td>5</td>\n",
       "    </tr>\n",
       "    <tr>\n",
       "      <th>8</th>\n",
       "      <td>dwF3DJHO</td>\n",
       "      <td>True</td>\n",
       "      <td>1.503510e+12</td>\n",
       "      <td>1.503510e+12</td>\n",
       "      <td>66</td>\n",
       "      <td>resign</td>\n",
       "      <td>black</td>\n",
       "      <td>15+0</td>\n",
       "      <td>ehabfanri</td>\n",
       "      <td>1439</td>\n",
       "      <td>daniel_likes_chess</td>\n",
       "      <td>1392</td>\n",
       "      <td>e4 e5 Bc4 Nc6 Nf3 Nd4 d3 Nxf3+ Qxf3 Nf6 h3 Bc5...</td>\n",
       "      <td>C50</td>\n",
       "      <td>Italian Game: Schilling-Kostic Gambit</td>\n",
       "      <td>6</td>\n",
       "    </tr>\n",
       "    <tr>\n",
       "      <th>11</th>\n",
       "      <td>Vf5fKWzI</td>\n",
       "      <td>False</td>\n",
       "      <td>1.503350e+12</td>\n",
       "      <td>1.503350e+12</td>\n",
       "      <td>38</td>\n",
       "      <td>resign</td>\n",
       "      <td>black</td>\n",
       "      <td>20+60</td>\n",
       "      <td>daniel_likes_chess</td>\n",
       "      <td>1381</td>\n",
       "      <td>subham777</td>\n",
       "      <td>1867</td>\n",
       "      <td>e4 e6 d4 d5 e5 c5 c3 Nc6 Nf3 Qb6 Be3 Qxb2 Nbd2...</td>\n",
       "      <td>C02</td>\n",
       "      <td>French Defense: Advance Variation |  Paulsen A...</td>\n",
       "      <td>9</td>\n",
       "    </tr>\n",
       "  </tbody>\n",
       "</table>\n",
       "</div>"
      ],
      "text/plain": [
       "          id  rated    created_at  last_move_at  turns victory_status winner  \\\n",
       "1   l1NXvwaE   True  1.504130e+12  1.504130e+12     16         resign  black   \n",
       "6   qwU9rasv   True  1.504230e+12  1.504230e+12     33         resign  white   \n",
       "7   RVN0N3VK  False  1.503680e+12  1.503680e+12      9         resign  black   \n",
       "8   dwF3DJHO   True  1.503510e+12  1.503510e+12     66         resign  black   \n",
       "11  Vf5fKWzI  False  1.503350e+12  1.503350e+12     38         resign  black   \n",
       "\n",
       "   increment_code            white_id  white_rating            black_id  \\\n",
       "1            5+10                a-00          1322           skinnerua   \n",
       "6            10+0             capa_jr          1520  daniel_likes_chess   \n",
       "7           15+30  daniel_likes_chess          1413            soultego   \n",
       "8            15+0           ehabfanri          1439  daniel_likes_chess   \n",
       "11          20+60  daniel_likes_chess          1381           subham777   \n",
       "\n",
       "    black_rating                                              moves  \\\n",
       "1           1261  d4 Nc6 e4 e5 f4 f6 dxe5 fxe5 fxe5 Nxe5 Qd4 Nc6...   \n",
       "6           1423  d4 d5 e4 dxe4 Nc3 Nf6 f3 exf3 Nxf3 Nc6 Bb5 a6 ...   \n",
       "7           2108                     e4 Nc6 d4 e5 d5 Nce7 c3 Ng6 b4   \n",
       "8           1392  e4 e5 Bc4 Nc6 Nf3 Nd4 d3 Nxf3+ Qxf3 Nf6 h3 Bc5...   \n",
       "11          1867  e4 e6 d4 d5 e5 c5 c3 Nc6 Nf3 Qb6 Be3 Qxb2 Nbd2...   \n",
       "\n",
       "   opening_eco                                       opening_name  opening_ply  \n",
       "1          B00             Nimzowitsch Defense: Kennedy Variation            4  \n",
       "6          D00         Blackmar-Diemer Gambit: Pietrowsky Defense           10  \n",
       "7          B00  Nimzowitsch Defense: Kennedy Variation |  Link...            5  \n",
       "8          C50              Italian Game: Schilling-Kostic Gambit            6  \n",
       "11         C02  French Defense: Advance Variation |  Paulsen A...            9  "
      ]
     },
     "execution_count": 30,
     "metadata": {},
     "output_type": "execute_result"
    }
   ],
   "source": [
    "resign_df = df[(df[\"victory_status\"] == \"resign\")]\n",
    "resign_df.head(5)"
   ]
  },
  {
   "cell_type": "markdown",
   "id": "49c608dc-7075-4155-ab83-0fde1c252861",
   "metadata": {},
   "source": [
    "As you can see this has only returned rows where the victory condition is a resignation. If you were only interested in games that were rated and got to the late game (say 50 turns) you could do it like this:"
   ]
  },
  {
   "cell_type": "code",
   "execution_count": 37,
   "id": "7a47d69a-036d-4936-81bf-4ab987604703",
   "metadata": {},
   "outputs": [
    {
     "ename": "ValueError",
     "evalue": "The truth value of a Series is ambiguous. Use a.empty, a.bool(), a.item(), a.any() or a.all().",
     "output_type": "error",
     "traceback": [
      "\u001b[0;31m---------------------------------------------------------------------------\u001b[0m",
      "\u001b[0;31mValueError\u001b[0m                                Traceback (most recent call last)",
      "\u001b[0;32m/var/folders/rq/p_qr_2wn0nl6sydzmfxkd97m0000gn/T/ipykernel_3864/580096387.py\u001b[0m in \u001b[0;36m<module>\u001b[0;34m\u001b[0m\n\u001b[0;32m----> 1\u001b[0;31m \u001b[0mrated_lategame\u001b[0m \u001b[0;34m=\u001b[0m \u001b[0mdf\u001b[0m\u001b[0;34m[\u001b[0m\u001b[0;34m(\u001b[0m\u001b[0mdf\u001b[0m\u001b[0;34m[\u001b[0m\u001b[0;34m\"rated\"\u001b[0m\u001b[0;34m]\u001b[0m \u001b[0;34m==\u001b[0m \u001b[0;32mTrue\u001b[0m \u001b[0;32mand\u001b[0m \u001b[0mdf\u001b[0m\u001b[0;34m[\u001b[0m\u001b[0;34m\"turns\"\u001b[0m\u001b[0;34m]\u001b[0m \u001b[0;34m>=\u001b[0m \u001b[0;36m50\u001b[0m\u001b[0;34m)\u001b[0m\u001b[0;34m]\u001b[0m\u001b[0;34m\u001b[0m\u001b[0;34m\u001b[0m\u001b[0m\n\u001b[0m\u001b[1;32m      2\u001b[0m \u001b[0mrated_lategame\u001b[0m\u001b[0;34m.\u001b[0m\u001b[0mhead\u001b[0m\u001b[0;34m(\u001b[0m\u001b[0;36m5\u001b[0m\u001b[0;34m)\u001b[0m\u001b[0;34m\u001b[0m\u001b[0;34m\u001b[0m\u001b[0m\n",
      "\u001b[0;32m/opt/homebrew/Caskroom/miniconda/base/lib/python3.8/site-packages/pandas/core/generic.py\u001b[0m in \u001b[0;36m__nonzero__\u001b[0;34m(self)\u001b[0m\n\u001b[1;32m   1535\u001b[0m     \u001b[0;34m@\u001b[0m\u001b[0mfinal\u001b[0m\u001b[0;34m\u001b[0m\u001b[0;34m\u001b[0m\u001b[0m\n\u001b[1;32m   1536\u001b[0m     \u001b[0;32mdef\u001b[0m \u001b[0m__nonzero__\u001b[0m\u001b[0;34m(\u001b[0m\u001b[0mself\u001b[0m\u001b[0;34m)\u001b[0m\u001b[0;34m:\u001b[0m\u001b[0;34m\u001b[0m\u001b[0;34m\u001b[0m\u001b[0m\n\u001b[0;32m-> 1537\u001b[0;31m         raise ValueError(\n\u001b[0m\u001b[1;32m   1538\u001b[0m             \u001b[0;34mf\"The truth value of a {type(self).__name__} is ambiguous. \"\u001b[0m\u001b[0;34m\u001b[0m\u001b[0;34m\u001b[0m\u001b[0m\n\u001b[1;32m   1539\u001b[0m             \u001b[0;34m\"Use a.empty, a.bool(), a.item(), a.any() or a.all().\"\u001b[0m\u001b[0;34m\u001b[0m\u001b[0;34m\u001b[0m\u001b[0m\n",
      "\u001b[0;31mValueError\u001b[0m: The truth value of a Series is ambiguous. Use a.empty, a.bool(), a.item(), a.any() or a.all()."
     ]
    }
   ],
   "source": [
    "rated_lategame = df[(df[\"rated\"] == True and df[\"turns\"] >= 50)]\n",
    "rated_lategame.head(5)"
   ]
  },
  {
   "cell_type": "code",
   "execution_count": 39,
   "id": "e51fbeb2-bd8b-4ef2-8949-be8ce4f68003",
   "metadata": {},
   "outputs": [
    {
     "data": {
      "text/plain": [
       "rated\n",
       "False     211822\n",
       "True     1001005\n",
       "Name: turns, dtype: int64"
      ]
     },
     "execution_count": 39,
     "metadata": {},
     "output_type": "execute_result"
    }
   ],
   "source": [
    "turns_victory_df = df.groupby(\"rated\").sum()\n",
    "turns_victory_df[\"turns\"]"
   ]
  },
  {
   "cell_type": "code",
   "execution_count": 49,
   "id": "e508311b-710c-4661-876b-4b8aa7eb60e2",
   "metadata": {},
   "outputs": [],
   "source": [
    "import matplotlib.pyplot as plt\n"
   ]
  },
  {
   "cell_type": "code",
   "execution_count": null,
   "id": "e788ff9e-c17a-4ca7-b643-ea15c5c2dd13",
   "metadata": {},
   "outputs": [],
   "source": []
  }
 ],
 "metadata": {
  "kernelspec": {
   "display_name": "base",
   "language": "python",
   "name": "base"
  },
  "language_info": {
   "codemirror_mode": {
    "name": "ipython",
    "version": 3
   },
   "file_extension": ".py",
   "mimetype": "text/x-python",
   "name": "python",
   "nbconvert_exporter": "python",
   "pygments_lexer": "ipython3",
   "version": "3.8.10"
  }
 },
 "nbformat": 4,
 "nbformat_minor": 5
}
