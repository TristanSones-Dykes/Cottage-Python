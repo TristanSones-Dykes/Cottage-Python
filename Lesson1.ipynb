{
 "cells": [
  {
   "cell_type": "markdown",
   "id": "a208ac8a-5b6f-4fbf-a049-7537fc54e73e",
   "metadata": {
    "tags": []
   },
   "source": [
    "<h1>Lesson 1</h1>\n",
    "\n",
    "When you write lines of code, there are three ways you can control the order these lines will be executed by the computer:\n",
    "<ol>\n",
    "    <li>Sequence - This means that the computer will run your code in order, one line at a time from the top to the bottom of your program. It will start at line 1, then execute line 2 then line 3 and so on till it reaches the last line of your program.</li><br>\n",
    "    <li>Selection - Sometimes you only want some lines of code to be run only if a condition is met, otherwise you want the computer to ignore these lines and jump over them. This is achieved using IF statements. e.g. If a condition is met then lines 4, 5, 6 are executed otherwise the computer jumps to line 7 without even looking at lines 4,5 and 6.</li><br>\n",
    "    <li>Iteration - Sometimes you want the computer to execute the same lines of code several times. This is done using a loop. There are three types of loops: For loops, while loops and repeat until loops. They're handy as it enables you not to have to copy the same lines of code many times.</li>"
   ]
  },
  {
   "cell_type": "markdown",
   "id": "730310eb-b73f-4b05-975a-b15be9986e03",
   "metadata": {},
   "source": [
    "<h2>Sequence</h2>"
   ]
  },
  {
   "cell_type": "code",
   "execution_count": 1,
   "id": "b67267bc-9faf-4902-bc0b-009a6afe991d",
   "metadata": {},
   "outputs": [
    {
     "name": "stdout",
     "output_type": "stream",
     "text": [
      "1\n",
      "2\n",
      "3\n"
     ]
    }
   ],
   "source": [
    "#THIS IS A COMMENT\n",
    "print(\"1\")\n",
    "print(\"2\")\n",
    "print(\"3\")"
   ]
  },
  {
   "cell_type": "markdown",
   "id": "11c4d63f-cbb6-4d38-a72f-74e6becdd214",
   "metadata": {},
   "source": [
    "Clearly these lines are ran one after another.<br>\n",
    "\\\"#\" denote comments in Python"
   ]
  },
  {
   "cell_type": "markdown",
   "id": "c1e3f754-f367-4cb1-ad02-6547aad0ce57",
   "metadata": {},
   "source": [
    "<h2>Selection</h2>"
   ]
  },
  {
   "cell_type": "code",
   "execution_count": 3,
   "id": "98b93c20-f544-4390-8017-05290e7be419",
   "metadata": {},
   "outputs": [
    {
     "name": "stdout",
     "output_type": "stream",
     "text": [
      "Reject H_0\n"
     ]
    }
   ],
   "source": [
    "evidence = \"Strong\"\n",
    "if evidence == \"Strong\":\n",
    "    print(\"Reject H_0\")\n",
    "else:\n",
    "    print(\"Reject H_1\")"
   ]
  },
  {
   "cell_type": "markdown",
   "id": "7ba6b256-ba9f-40dd-899c-9d594372ed18",
   "metadata": {},
   "source": [
    "Here, it is testing whether the evidence variable is equal to \"Strong\" or not.<br>\n",
    "In Python (and R) you use \"==\" to evaluate whether two variables are equal and \"=\" to set variables"
   ]
  },
  {
   "cell_type": "code",
   "execution_count": 5,
   "id": "f4b82029-7b1c-4b22-bd1b-55962944dfcd",
   "metadata": {},
   "outputs": [
    {
     "name": "stdout",
     "output_type": "stream",
     "text": [
      "equal to\n"
     ]
    }
   ],
   "source": [
    "x = 5\n",
    "if x < 5:\n",
    "    print(\"less than\")\n",
    "elif x > 5:\n",
    "    print(\"more than\")\n",
    "else:\n",
    "    print(\"equal to\")"
   ]
  },
  {
   "cell_type": "markdown",
   "id": "0db6a25d-59bc-4be7-b196-b4109cbac325",
   "metadata": {},
   "source": [
    "\"elif\" - else if - can be used to add more cases to an if statement as shown above."
   ]
  },
  {
   "cell_type": "markdown",
   "id": "508bc32f-6901-44a4-b2d4-f35e1643ca6c",
   "metadata": {},
   "source": [
    "<h2>Iteration</h2>"
   ]
  },
  {
   "cell_type": "code",
   "execution_count": 4,
   "id": "e2f0bae7-23bd-48da-b678-c9df294881aa",
   "metadata": {},
   "outputs": [
    {
     "name": "stdout",
     "output_type": "stream",
     "text": [
      "0\n",
      "1\n",
      "2\n",
      "3\n",
      "4\n",
      "----------------\n",
      "2\n",
      "4\n",
      "6\n"
     ]
    }
   ],
   "source": [
    "for i in range(5):\n",
    "    print(i)\n",
    "\n",
    "print(\"----------------\")\n",
    "    \n",
    "x = [2,4,6]\n",
    "for i in x:\n",
    "    print(i)"
   ]
  },
  {
   "cell_type": "markdown",
   "id": "d56d185f-0b3a-4ca4-a551-94aec8f04d12",
   "metadata": {},
   "source": [
    "\"for\" loops are used when you know the amount of iterations you want to compute or when you want to iterate through an iterator/generator (will come up later)."
   ]
  },
  {
   "cell_type": "code",
   "execution_count": 9,
   "id": "5b295753-bd45-4f1d-a8d7-42a16c1e6cfe",
   "metadata": {},
   "outputs": [
    {
     "name": "stdout",
     "output_type": "stream",
     "text": [
      "0\n",
      "0.45\n",
      "0.9\n",
      "1.35\n",
      "1.8\n",
      "2.25\n",
      "2.7\n",
      "3.1500000000000004\n",
      "3.6000000000000005\n",
      "4.050000000000001\n",
      "4.500000000000001\n",
      "4.950000000000001\n"
     ]
    }
   ],
   "source": [
    "x = 0\n",
    "while x < 5:\n",
    "    print(x)\n",
    "    x += 0.45 # += 0.45 is shorthand for x = x + 0.45"
   ]
  },
  {
   "cell_type": "markdown",
   "id": "352bb33c-276a-43fd-8c37-e558b7c9a38e",
   "metadata": {},
   "source": [
    "\"while\" loops are used when you don't know how many iterations you need. It is advised to always use for loops over while loops if you can because they're more performant and are much easier to make sense of after the fact.\n",
    "\n",
    "Those zeroes after the decimals are because of the inaccuracy of floats in Python under certain circumstances."
   ]
  },
  {
   "cell_type": "markdown",
   "id": "9032a469-778d-40b1-bee9-d358271e6976",
   "metadata": {},
   "source": [
    "<h2>Combining The Three</h2>"
   ]
  },
  {
   "cell_type": "code",
   "execution_count": 4,
   "id": "f8ff90bf-a893-48ed-9e60-3db4924cc55c",
   "metadata": {},
   "outputs": [
    {
     "name": "stdout",
     "output_type": "stream",
     "text": [
      "15\n",
      "46\n",
      "23\n",
      "70\n",
      "35\n",
      "106\n",
      "53\n",
      "160\n",
      "80\n",
      "40\n",
      "20\n",
      "10\n",
      "5\n",
      "16\n",
      "8\n",
      "4\n",
      "2\n",
      "1\n"
     ]
    }
   ],
   "source": [
    "#code that computes the Collatz conjecture for integer n\n",
    "#if n is even, divide it by 2\n",
    "#if n is odd, multiply it by three and add one\n",
    "#compute until we reach 1\n",
    "n = 15\n",
    "print(n)\n",
    "while n != 1:\n",
    "    if n % 2 == 0:\n",
    "        #so n is even because the modulus 2 = 0\n",
    "        n = n // 2 #integer division (division that ignores remainder and returns ints not floats)\n",
    "    else:\n",
    "        n = 3*n + 1\n",
    "    print(n)"
   ]
  },
  {
   "cell_type": "markdown",
   "id": "22bc81c6-eed2-4340-9f99-8cbe6e1eedf3",
   "metadata": {
    "tags": []
   },
   "source": [
    "<h2>Now your turn</h2>\n",
    "You are going to code FizzBuzz - the first prolific technical interview question. \n",
    "\n",
    "FizzBuzz is a problem that has these rules:\n",
    "<ol>\n",
    "    <li>\n",
    "        Iterate (loop through) through the first n natural numbers\n",
    "    </li>\n",
    "    <li>\n",
    "        If the number is divisible by 3, return Fizz.\n",
    "    </li>\n",
    "    <li>\n",
    "        If the number is divisible by 5, return Buzz.\n",
    "    </li>\n",
    "    <li>\n",
    "        If the number is divisibly by both, return FizzBuzz.\n",
    "    </li>\n",
    "    <li>\n",
    "        If it isn't divisible by either, return the number.\n",
    "    </li>\n",
    "</ol>\n",
    "The first 5 outputs of the algorithm should be: <br>1<br>2<br>Fizz<br>4<br>Buzz<br>\n",
    "\n",
    "***\n",
    "\n",
    "\n",
    "#### What you might need:\n",
    " - range(a, b), this function generates a range of numbers to iterate through. These are inclusive on a and exclusive on b. You can iterate through it using a for loop.\n",
    " - %, this is the modulus operator (also called mod). a % b returns the remainder after dividing a by b. E.g: 15 % 5 returns 0 because there is no remainder.\n",
    " - print(), this function outputs what is placed within it below the cell. You can put basically anything in here and it will output *something*."
   ]
  },
  {
   "cell_type": "code",
   "execution_count": null,
   "id": "0095e2c5-db2c-413d-9943-8787d4febe00",
   "metadata": {},
   "outputs": [],
   "source": []
  }
 ],
 "metadata": {
  "kernelspec": {
   "display_name": "base",
   "language": "python",
   "name": "base"
  },
  "language_info": {
   "codemirror_mode": {
    "name": "ipython",
    "version": 3
   },
   "file_extension": ".py",
   "mimetype": "text/x-python",
   "name": "python",
   "nbconvert_exporter": "python",
   "pygments_lexer": "ipython3",
   "version": "3.8.10"
  }
 },
 "nbformat": 4,
 "nbformat_minor": 5
}
