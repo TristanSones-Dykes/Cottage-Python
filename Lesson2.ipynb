{
 "cells": [
  {
   "cell_type": "markdown",
   "id": "979568cb-ba0e-4e07-a7fa-b3c1f73e23d2",
   "metadata": {},
   "source": [
    "# Lesson 2 - Some Groundwork\n",
    "\n",
    "## Mathematical operators\n",
    "#### Basic:\n",
    "1. Addition: a + b\n",
    "1. Subtraction: a - b\n",
    "1. Multiplication: a \\* b\n",
    "1. Division: a / b\n",
    "\n",
    "#### More complex:\n",
    "1. Modulus: a % b, returns the integer remainder of a divided by b, 3 % 2 = 1\n",
    "1. Exponentiation: a ** b, returns a to the power of b, 3 ** 2 = 9\n",
    "1. Floor division: a // b, returns the integer component of a divided by b, 3 // 2 = 1\n",
    "\n",
    "If you're struggling with exactly what modulus and floor do, you can recreate division, /, with % and // like this:"
   ]
  },
  {
   "cell_type": "code",
   "execution_count": null,
   "id": "b2dec373-3877-4150-bc31-fdfabeadb48a",
   "metadata": {},
   "outputs": [],
   "source": [
    "a = 3\n",
    "b = 2\n",
    "print(a / b)\n",
    "print((a // b) + (a % b)/b)\n",
    "print(\"They're the same!\")"
   ]
  },
  {
   "cell_type": "markdown",
   "id": "85ff6c62-3399-4ae3-9720-f3c17827a882",
   "metadata": {},
   "source": [
    "## Logical operators\n",
    "\n",
    "1. Equal to: a == b\n",
    "1. More than: a > b\n",
    "1. Less than: a < b\n",
    "1. More than or equal to: a >= b\n",
    "1. Less than or equal to: a <= b\n",
    "\n",
    "If these statements are true it will return the boolean True, else it returns False"
   ]
  },
  {
   "cell_type": "markdown",
   "id": "5a4dfaa3-ed45-45ee-8ed7-6bd56dc5aa49",
   "metadata": {},
   "source": [
    "## Functions\n",
    "\n",
    "Functions are a way of replicating and segmenting code so that it can be reused in lots of different ways. They usually have (but don't have to have) parameters, values that you pass into the function, and they often return something.\n",
    "\n",
    "You define them like this:"
   ]
  },
  {
   "cell_type": "code",
   "execution_count": null,
   "id": "aa3cd033-f6b6-4f84-8fcc-1a1e7a9c1d4c",
   "metadata": {},
   "outputs": [],
   "source": [
    "def divide(a, b):\n",
    "    output = (a // b) + (a % b)/b\n",
    "    return output"
   ]
  },
  {
   "cell_type": "markdown",
   "id": "edae5e91-e97c-4637-add2-f9ca62f0609a",
   "metadata": {
    "tags": []
   },
   "source": [
    "Here, \"divide\" is the name of the function; \"a\" and \"b\" are parameters that have been passed into the function; it \"output\" is the variable that it returns. It's worth noting that \"return\" is not a function so does not need brackets.\n",
    "\n",
    "You call a function like this:"
   ]
  },
  {
   "cell_type": "code",
   "execution_count": null,
   "id": "f1dbb5d2-e0f0-455b-9019-f40ff515ae0e",
   "metadata": {},
   "outputs": [],
   "source": [
    "divide(a, b)"
   ]
  },
  {
   "cell_type": "markdown",
   "id": "89b17a06-308e-4597-9bcd-9d17e628e20f",
   "metadata": {},
   "source": [
    "##### This has shown two very notable features of a Jupyter Notebook:\n",
    "1. That variables are conserved between cells (see we didn't define a or b in these cells but in the ones far above), they're stored on the kernel as long as it is open (and can also be preserved between sessions, but are not stored in a permament file like a .csv).\n",
    "1. That the last thing that is returned in a cell is shown by default, this is really useful because it means you don't have to write print in every cell to output things.\n",
    "\n",
    "#### Write a function:\n",
    "Create a function that returns the area of a right-angled triangle with parameters \"height\" and \"base\". Call this function \"RA_area\"."
   ]
  },
  {
   "cell_type": "code",
   "execution_count": null,
   "id": "167450d2-ff77-4353-978f-bf81eb7f6934",
   "metadata": {},
   "outputs": [],
   "source": [
    "#Write your code here\n"
   ]
  },
  {
   "cell_type": "code",
   "execution_count": null,
   "id": "df9d192e-05f7-46ae-b821-ac223ba1cbc8",
   "metadata": {},
   "outputs": [],
   "source": [
    "#Test cell - don't alter code\n",
    "import numpy as np\n",
    "np.testing.assert_equal(RA_area(2, 2), 2)"
   ]
  },
  {
   "cell_type": "markdown",
   "id": "79eba3c0-787f-45a1-b712-ceb239f81ebc",
   "metadata": {},
   "source": [
    "This should return a pretty detailed error message if the function isn't outputting the correct data."
   ]
  },
  {
   "cell_type": "markdown",
   "id": "cbd51e28-04b8-420f-bd41-1f2d3681a05c",
   "metadata": {},
   "source": [
    "## Arrays/Lists\n",
    "\n",
    "In Python, arrays are lists (unless I tell you otherwise). This means that we can declare lists, add and remove elements from those lists, and we can change the length of lists. These lists can also contain multiple data types - although you should really think about why you're doing this.\n",
    "\n",
    "You index arrays using square brackets: \\[\\]."
   ]
  },
  {
   "cell_type": "code",
   "execution_count": null,
   "id": "a9689f7d-5786-463d-9783-f1cfc2547835",
   "metadata": {},
   "outputs": [],
   "source": [
    "array = []\n",
    "for i in range(5):\n",
    "    array.append(i) #append(x) adds x to the end of the list\n",
    "\n",
    "array #note I am just typing the variable at the end of the cell and it outputs it"
   ]
  },
  {
   "cell_type": "markdown",
   "id": "e9534d42-69a5-4898-b181-ee165a2b7d13",
   "metadata": {},
   "source": [
    "#### List comprehensions\n",
    "\n",
    "List comprehensions are the best part of Python... Congratulations you're peaking.<br>\n",
    "They are a way of combining loops and declaring an array into one line, this allows us to save space and make our code more \"pythonic\" - readable and uniform."
   ]
  },
  {
   "cell_type": "code",
   "execution_count": null,
   "id": "495d89a4-8c54-4530-befa-d269a1e18079",
   "metadata": {},
   "outputs": [],
   "source": [
    "array = [x for x in range(5)]\n",
    "array"
   ]
  },
  {
   "cell_type": "markdown",
   "id": "36c9691a-0e69-43c6-9a06-27f8bb41e2df",
   "metadata": {},
   "source": [
    "We can also have if statements and stuff in them."
   ]
  },
  {
   "cell_type": "code",
   "execution_count": null,
   "id": "cd2841eb-ccef-462b-accd-96108ddee30f",
   "metadata": {},
   "outputs": [],
   "source": [
    "[x for x in range(51) if x % 5 == 0]"
   ]
  },
  {
   "cell_type": "code",
   "execution_count": null,
   "id": "61780f9b-f3eb-44a9-985a-48c8b280201a",
   "metadata": {},
   "outputs": [],
   "source": [
    "[\"Fizz\" if x % 3 == 0 else x for x in range(11)]"
   ]
  },
  {
   "cell_type": "markdown",
   "id": "f581b801-e977-4f51-9ef6-72d04a5ad6eb",
   "metadata": {},
   "source": [
    "Very *coooooooooool...*"
   ]
  },
  {
   "cell_type": "markdown",
   "id": "f16f9b5a-52bd-4f30-96b6-4e7745c1ea85",
   "metadata": {},
   "source": [
    "### Some functional tools\n",
    "\n",
    "filter(), reduce(), and map() bring a bit more functional flavour to Python. They are all things that can be recreated using loops and list comprehensions but they are still useful nontheless and are a good learning tool. They can also make code a lot more readable as you can define things and use them in separate places.\n",
    "\n",
    "1. filter(function, iterable(s))\n",
    "    - Intakes iterables and a function and outputs a list\n",
    "    - It \"filters\" the iterable and returns a list only containing elements if function(element) returns True\n",
    "1. map(function, iterable(s))\n",
    "    - Intakes iterables and a function and outputs a list\n",
    "    - It \"maps\" all elements in the input iterable to one in the iterable it returns using the function provided\n",
    "1. reduce(function, iterable)\n",
    "    - Intakes an iterable and a function and outputs a *value*\n",
    "    - It uses the function (that has to have two unspecified parameters) and goes through the iterable applying the function to the first two variables and then uses the output of those two variables through the function with then next one, and so on.\n",
    "    - Has to be imported from the functools library because it is no longer included in standard Python (for a good reason)."
   ]
  },
  {
   "cell_type": "code",
   "execution_count": null,
   "id": "5234b1ff-0c23-4d04-84f5-fd200382e4e8",
   "metadata": {},
   "outputs": [],
   "source": [
    "def is_multiple_of_5(n):\n",
    "    return (n % 5) == 0\n",
    "\n",
    "a = filter(is_multiple_of_5, range(51))\n",
    "b = [x for x in range(51) if x % 5 == 0] #equivalent using list comprehension\n",
    "\n",
    "a"
   ]
  },
  {
   "cell_type": "markdown",
   "id": "2219dfa1-62a6-48ad-90e5-dc985d38287a",
   "metadata": {},
   "source": [
    "We can see that the filter function actually returns a filter object (which isn't really functional, as true functional languages don't have objects, but it is the closest Python can get to true functional which is just linking the inputs and outputs of functions). This does mean, however, that if we want to see the output we need to \"evaluate\" it using list()."
   ]
  },
  {
   "cell_type": "code",
   "execution_count": null,
   "id": "eecc0776-ccc5-4aee-9079-67558c74123b",
   "metadata": {},
   "outputs": [],
   "source": [
    "b == list(a)"
   ]
  },
  {
   "cell_type": "code",
   "execution_count": null,
   "id": "cc4b3d5f-1a7a-4203-b40c-5c0d386f675b",
   "metadata": {},
   "outputs": [],
   "source": [
    "from math import exp #exp(n) returns the value of e^n\n",
    "\n",
    "a = [exp(n) for n in range(100)] #equivalent in list comprehensions\n",
    "b = list(map(exp, range(100))) #note we need to use list() again\n",
    "\n",
    "a == b"
   ]
  },
  {
   "cell_type": "code",
   "execution_count": null,
   "id": "468d7207-5c45-400e-93f8-61ff90c9891b",
   "metadata": {},
   "outputs": [],
   "source": [
    "from functools import reduce\n",
    "\n",
    "def add(a, b):\n",
    "    return a + b\n",
    "\n",
    "a = sum(x for x in range(11)) #sum() adds up all elements in an iterable\n",
    "b = reduce(add, range(11))\n",
    "\n",
    "print(b)\n",
    "a == b"
   ]
  },
  {
   "cell_type": "markdown",
   "id": "c7d039ac-673b-4501-aa4b-b59d126bfc3a",
   "metadata": {},
   "source": [
    "### Your turn\n",
    "Use filter to create a list of all elements in the set {0,...,362} that's greatest common denominator with 363 = 1. You will need to import the function *gcd* from the library *math* (as I have imported the function *reduce* from *functools* in the example above).\n",
    "\n",
    "Create a list comprehension that does the same thing."
   ]
  },
  {
   "cell_type": "code",
   "execution_count": 3,
   "id": "2f2fec9e-d12a-4ef0-8910-695aa2632480",
   "metadata": {},
   "outputs": [],
   "source": [
    "#Write your code here"
   ]
  },
  {
   "cell_type": "markdown",
   "id": "52ccccfd-8830-497d-a021-e421798e7386",
   "metadata": {},
   "source": [
    "Adapt your fizzbuzz solution from the previous sheet into a function and use *map* to apply it to all integers between 0 and 100 inclusive."
   ]
  },
  {
   "cell_type": "code",
   "execution_count": null,
   "id": "88df74a9-492f-4ed7-9be3-b7ee522323e6",
   "metadata": {},
   "outputs": [],
   "source": [
    "#Write your code here"
   ]
  },
  {
   "cell_type": "markdown",
   "id": "e62f68f5-13c0-47b1-a5ad-6c4d45c78067",
   "metadata": {},
   "source": [
    "Use reduce to calculate the product of all integers between 1 and 10 (or calculate 10!)."
   ]
  },
  {
   "cell_type": "code",
   "execution_count": null,
   "id": "7a0befbc-5cff-44e9-8f85-19610b6fd6ad",
   "metadata": {},
   "outputs": [],
   "source": [
    "#Write your code here"
   ]
  }
 ],
 "metadata": {
  "kernelspec": {
   "display_name": "base",
   "language": "python",
   "name": "base"
  },
  "language_info": {
   "codemirror_mode": {
    "name": "ipython",
    "version": 3
   },
   "file_extension": ".py",
   "mimetype": "text/x-python",
   "name": "python",
   "nbconvert_exporter": "python",
   "pygments_lexer": "ipython3",
   "version": "3.8.10"
  }
 },
 "nbformat": 4,
 "nbformat_minor": 5
}
