{
 "cells": [
  {
   "cell_type": "markdown",
   "id": "979568cb-ba0e-4e07-a7fa-b3c1f73e23d2",
   "metadata": {},
   "source": [
    "# Lesson 2 - Some Groundwork\n",
    "\n",
    "## Mathematical operators\n",
    "#### Basic:\n",
    "1. Addition: a + b\n",
    "1. Subtraction: a - b\n",
    "1. Multiplication: a \\* b\n",
    "1. Division: a / b\n",
    "\n",
    "#### More complex:\n",
    "1. Modulus: a % b, returns the integer remainder of a divided by b, 3 % 2 = 1\n",
    "1. Exponentiation: a ** b, returns a to the power of b, 3 ** 2 = 9\n",
    "1. Floor division: a // b, returns the integer component of a divided by b, 3 // 2 = 1\n",
    "\n",
    "If you're struggling with exactly what modulus and floor do, you can recreate division, /, with % and // like this:"
   ]
  },
  {
   "cell_type": "code",
   "execution_count": 6,
   "id": "b2dec373-3877-4150-bc31-fdfabeadb48a",
   "metadata": {},
   "outputs": [
    {
     "name": "stdout",
     "output_type": "stream",
     "text": [
      "1.5\n",
      "1.5\n",
      "They're the same!\n"
     ]
    }
   ],
   "source": [
    "a = 3\n",
    "b = 2\n",
    "print(a / b)\n",
    "print((a // b) + (a % b)/b)\n",
    "print(\"They're the same!\")"
   ]
  },
  {
   "cell_type": "markdown",
   "id": "5a4dfaa3-ed45-45ee-8ed7-6bd56dc5aa49",
   "metadata": {},
   "source": [
    "## Functions\n",
    "\n",
    "Functions are a way of replicating and segmenting code so that it can be reused in lots of different ways. They usually have (but don't have to have) parameters, values that you pass into the function, and they often return something.\n",
    "\n",
    "You define them like this:"
   ]
  },
  {
   "cell_type": "code",
   "execution_count": 9,
   "id": "aa3cd033-f6b6-4f84-8fcc-1a1e7a9c1d4c",
   "metadata": {},
   "outputs": [],
   "source": [
    "def divide(a, b):\n",
    "    output = (a // b) + (a % b)/b\n",
    "    return output"
   ]
  },
  {
   "cell_type": "markdown",
   "id": "edae5e91-e97c-4637-add2-f9ca62f0609a",
   "metadata": {},
   "source": [
    "Here, \"divide\" is the name of the function; \"a\" and \"b\" are parameters that have been passed into the function; it \"output\" is the variable that it returns. It's worth noting that \"return\" is not a function so does not need brackets.\n",
    "\n",
    "You call a function like this:"
   ]
  },
  {
   "cell_type": "code",
   "execution_count": 10,
   "id": "f1dbb5d2-e0f0-455b-9019-f40ff515ae0e",
   "metadata": {},
   "outputs": [
    {
     "data": {
      "text/plain": [
       "1.5"
      ]
     },
     "execution_count": 10,
     "metadata": {},
     "output_type": "execute_result"
    }
   ],
   "source": [
    "divide(a, b)"
   ]
  },
  {
   "cell_type": "markdown",
   "id": "89b17a06-308e-4597-9bcd-9d17e628e20f",
   "metadata": {},
   "source": [
    "##### This has shown two very notable features of a Jupyter Notebook:\n",
    "1. That variables are conserved between cells, they're stored on the kernel as long as it is open (and can also be preserved between sessions, but are not stored in a permament file like a .csv).\n",
    "1. That the last thing that is returned in a cell is shown by default, this is really useful because it means you don't have to write print in every cell to output things.\n",
    "\n",
    "#### Write a function:\n",
    "Create a function that returns the area of a right-angled triangle with parameters \"height\" and \"base\"."
   ]
  },
  {
   "cell_type": "code",
   "execution_count": 11,
   "id": "167450d2-ff77-4353-978f-bf81eb7f6934",
   "metadata": {},
   "outputs": [],
   "source": [
    "#Write your code here"
   ]
  },
  {
   "cell_type": "code",
   "execution_count": null,
   "id": "114e5f13-29bf-4b1d-885d-2876a55da3d2",
   "metadata": {},
   "outputs": [],
   "source": []
  }
 ],
 "metadata": {
  "kernelspec": {
   "display_name": "base",
   "language": "python",
   "name": "base"
  },
  "language_info": {
   "codemirror_mode": {
    "name": "ipython",
    "version": 3
   },
   "file_extension": ".py",
   "mimetype": "text/x-python",
   "name": "python",
   "nbconvert_exporter": "python",
   "pygments_lexer": "ipython3",
   "version": "3.8.10"
  }
 },
 "nbformat": 4,
 "nbformat_minor": 5
}
